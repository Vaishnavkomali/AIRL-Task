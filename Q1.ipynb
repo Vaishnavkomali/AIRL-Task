{
  "nbformat": 4,
  "nbformat_minor": 0,
  "metadata": {
    "colab": {
      "provenance": [],
      "gpuType": "T4",
      "include_colab_link": true
    },
    "kernelspec": {
      "name": "python3",
      "display_name": "Python 3"
    },
    "language_info": {
      "name": "python"
    },
    "accelerator": "GPU"
  },
  "cells": [
    {
      "cell_type": "markdown",
      "metadata": {
        "id": "view-in-github",
        "colab_type": "text"
      },
      "source": [
        "<a href=\"https://colab.research.google.com/github/Vaishnavkomali/AIRL-Task/blob/main/Q1.ipynb\" target=\"_parent\"><img src=\"https://colab.research.google.com/assets/colab-badge.svg\" alt=\"Open In Colab\"/></a>"
      ]
    },
    {
      "cell_type": "code",
      "execution_count": null,
      "metadata": {
        "id": "fDU77wZH8gz6"
      },
      "outputs": [],
      "source": [
        "import torch\n",
        "import torch.nn as nn\n",
        "import torch.nn.functional as F\n",
        "import torch.optim as optim\n",
        "from torch.utils.data import DataLoader\n",
        "from torchvision import datasets, transforms\n",
        "import matplotlib.pyplot as plt\n",
        "from tqdm import tqdm\n",
        "import numpy as np\n",
        "\n",
        "# --- Helper Functions for Stochastic Depth (DropPath) ---\n",
        "# Implements the DropPath module for Stochastic Depth regularization.\n",
        "class DropPath(nn.Module):\n",
        "    def __init__(self, drop_prob=None):\n",
        "        super(DropPath, self).__init__()\n",
        "        self.drop_prob = drop_prob\n",
        "\n",
        "    def forward(self, x):\n",
        "        if self.drop_prob == 0. or not self.training:\n",
        "            return x\n",
        "        keep_prob = 1 - self.drop_prob\n",
        "        # scale_factor = 1.0 / keep_prob for inference-mode consistency\n",
        "        mask = torch.rand(x.shape[0], 1, 1, device=x.device) < keep_prob\n",
        "        output = x.div(keep_prob) * mask\n",
        "        return output\n",
        "\n",
        "# --- Helper Functions for CutMix Augmentation ---\n",
        "# --- Helper Functions for CutMix Augmentation (FIXED for CUDA) ---\n",
        "def cutmix_data(x, y, alpha=1.0):\n",
        "    '''Returns mixed inputs, pairs of targets, and lambda'''\n",
        "    if alpha > 0:\n",
        "        # FIX: Sample the tensor, move it to CPU, and convert to a float scalar\n",
        "        lam_tensor = torch.distributions.beta.Beta(alpha, alpha).sample()\n",
        "        lam = lam_tensor.item()\n",
        "    else:\n",
        "        lam = 1.0 # Ensure this is a float\n",
        "\n",
        "    batch_size = x.size(0)\n",
        "    index = torch.randperm(batch_size).to(x.device)\n",
        "\n",
        "    # Bounding Box Generation uses the float 'lam' now\n",
        "    bbx1, bby1, bbx2, bby2 = rand_bbox(x.size(), lam)\n",
        "\n",
        "    # Apply CutMix\n",
        "    mixed_x = x.clone()\n",
        "    mixed_x[:, :, bbx1:bbx2, bby1:bby2] = x[index, :, bbx1:bbx2, bby1:bby2]\n",
        "\n",
        "    # Adjust lambda to match pixel ratio\n",
        "    lam = 1 - ((bbx2 - bbx1) * (bby2 - bby1) / (x.size()[-1] * x.size()[-2]))\n",
        "\n",
        "    y_a, y_b = y, y[index]\n",
        "    return mixed_x, y_a, y_b, lam\n",
        "\n",
        "def rand_bbox(size, lam):\n",
        "    # This function uses NumPy and must receive Python numbers/floats\n",
        "    W = size[2]\n",
        "    H = size[3]\n",
        "    cut_rat = np.sqrt(1. - lam)\n",
        "    cut_w = np.int64(W * cut_rat)\n",
        "    cut_h = np.int64(H * cut_rat)\n",
        "\n",
        "    # uniform\n",
        "    cx = np.random.randint(W)\n",
        "    cy = np.random.randint(H)\n",
        "\n",
        "    bbx1 = np.clip(cx - cut_w // 2, 0, W)\n",
        "    bby1 = np.clip(cy - cut_h // 2, 0, H)\n",
        "    bbx2 = np.clip(cx + cut_w // 2, 0, W)\n",
        "    bby2 = np.clip(cy + cut_h // 2, 0, H)\n",
        "    return bbx1, bby1, bbx2, bby2\n",
        "\n",
        "def cutmix_criterion(criterion, pred, y_a, y_b, lam):\n",
        "    return lam * criterion(pred, y_a) + (1 - lam) * criterion(pred, y_b)\n",
        "\n",
        "# --- Label Smoothing Loss ---\n",
        "class LabelSmoothingCrossEntropy(nn.Module):\n",
        "    def __init__(self, smoothing=0.1):\n",
        "        super(LabelSmoothingCrossEntropy, self).__init__()\n",
        "        self.smoothing = smoothing\n",
        "\n",
        "    def forward(self, x, target):\n",
        "        confidence = 1. - self.smoothing\n",
        "        logprobs = F.log_softmax(x, dim=-1)\n",
        "        nll_loss = -logprobs.gather(dim=-1, index=target.unsqueeze(1))\n",
        "        nll_loss = nll_loss.squeeze(1)\n",
        "        smooth_loss = -logprobs.mean(dim=-1)\n",
        "        loss = confidence * nll_loss + self.smoothing * smooth_loss\n",
        "        return loss.mean()\n"
      ]
    },
    {
      "cell_type": "code",
      "source": [
        "device = torch.device(\"cuda\" if torch.cuda.is_available() else \"cpu\")\n",
        "print(\"Using device:\", device)\n",
        "\n",
        "# --- OPTIMIZED CONFIGURATION ---\n",
        "BEST_CONFIG = {\n",
        "    'img_size': 32,\n",
        "    'patch_size': 4,       # Kept 4x4\n",
        "    'in_ch': 3,\n",
        "    'num_classes': 10,\n",
        "    'embed_dim': 384,      # Increased capacity (from 256)\n",
        "    'depth': 12,           # Increased depth (from 8)\n",
        "    'heads': 12,           # Increased heads (from 8)\n",
        "    'dropout': 0.2,\n",
        "    'mlp_ratio': 4.0,\n",
        "    'drop_path_rate': 0.1, # New: Stochastic Depth rate\n",
        "}\n",
        "print(\"ViT Configuration:\", BEST_CONFIG)\n",
        "\n",
        "# Training Hyperparameters\n",
        "EPOCHS = 150              # Increased training time (from 100)\n",
        "BATCH_SIZE = 128\n",
        "LR = 1e-3\n",
        "WEIGHT_DECAY = 0.05\n",
        "WARMUP_EPOCHS = 10\n",
        "LABEL_SMOOTHING = 0.1     # New: Label Smoothing factor\n",
        "\n",
        "# ... (Dataset transforms and DataLoader setup remains the same) ...\n",
        "transform_train = transforms.Compose([\n",
        "    transforms.RandomCrop(32, padding=4),\n",
        "    transforms.RandomHorizontalFlip(),\n",
        "    transforms.ToTensor(),\n",
        "    transforms.Normalize((0.5, 0.5, 0.5), (0.5, 0.5, 0.5)),\n",
        "])\n",
        "\n",
        "transform_test = transforms.Compose([\n",
        "    transforms.ToTensor(),\n",
        "    transforms.Normalize((0.5, 0.5, 0.5), (0.5, 0.5, 0.5)),\n",
        "])\n",
        "\n",
        "train_dataset = datasets.CIFAR10(root=\"./data\", train=True, download=True, transform=transform_train)\n",
        "test_dataset  = datasets.CIFAR10(root=\"./data\", train=False, download=True, transform=transform_test)\n",
        "\n",
        "train_loader = DataLoader(train_dataset, batch_size=BATCH_SIZE, shuffle=True, num_workers=2, pin_memory=True)\n",
        "test_loader  = DataLoader(test_dataset, batch_size=BATCH_SIZE, shuffle=False, num_workers=2, pin_memory=True)\n"
      ],
      "metadata": {
        "colab": {
          "base_uri": "https://localhost:8080/"
        },
        "id": "z5CgPHN48vFk",
        "outputId": "4f03d6dc-3e1f-48e0-fda6-d04664dca204"
      },
      "execution_count": null,
      "outputs": [
        {
          "output_type": "stream",
          "name": "stdout",
          "text": [
            "Using device: cuda\n",
            "ViT Configuration: {'img_size': 32, 'patch_size': 4, 'in_ch': 3, 'num_classes': 10, 'embed_dim': 384, 'depth': 12, 'heads': 12, 'dropout': 0.2, 'mlp_ratio': 4.0, 'drop_path_rate': 0.1}\n"
          ]
        },
        {
          "output_type": "stream",
          "name": "stderr",
          "text": [
            "100%|██████████| 170M/170M [00:15<00:00, 11.2MB/s]\n"
          ]
        }
      ]
    },
    {
      "cell_type": "code",
      "source": [
        "class PatchEmbedding(nn.Module):\n",
        "    def __init__(self, img_size, patch_size, in_ch, embed_dim):\n",
        "        super().__init__()\n",
        "        self.patch_size = patch_size\n",
        "        self.n_patches = (img_size // patch_size) ** 2\n",
        "        self.proj = nn.Conv2d(in_ch, embed_dim, kernel_size=patch_size, stride=patch_size)\n",
        "    def forward(self, x):\n",
        "        x = self.proj(x)\n",
        "        x = x.flatten(2).transpose(1, 2)\n",
        "        return x\n",
        "\n",
        "class Attention(nn.Module):\n",
        "    def __init__(self, dim, heads, dropout):\n",
        "        super().__init__()\n",
        "        self.heads = heads\n",
        "        self.scale = dim ** -0.5\n",
        "        self.to_qkv = nn.Linear(dim, dim * 3, bias=False)\n",
        "        self.fc = nn.Linear(dim, dim)\n",
        "        self.drop = nn.Dropout(dropout)\n",
        "    def forward(self, x):\n",
        "        B, N, D = x.shape\n",
        "        qkv = self.to_qkv(x).reshape(B, N, 3, self.heads, D // self.heads)\n",
        "        q, k, v = qkv.permute(2, 0, 3, 1, 4)\n",
        "        attn = (q @ k.transpose(-2, -1)) * self.scale\n",
        "        attn = attn.softmax(dim=-1)\n",
        "        out = (attn @ v).transpose(1, 2).reshape(B, N, D)\n",
        "        return self.drop(self.fc(out))\n",
        "\n",
        "# MODIFIED: TransformerBlock now includes DropPath\n",
        "class TransformerBlock(nn.Module):\n",
        "    def __init__(self, dim, heads, mlp_ratio, dropout, drop_path_rate=0.0):\n",
        "        super().__init__()\n",
        "        self.norm1 = nn.LayerNorm(dim)\n",
        "        self.attn = Attention(dim, heads, dropout)\n",
        "        self.drop_path = DropPath(drop_path_rate) if drop_path_rate > 0. else nn.Identity()\n",
        "        self.norm2 = nn.LayerNorm(dim)\n",
        "        self.mlp = nn.Sequential(\n",
        "            nn.Linear(dim, int(dim * mlp_ratio)),\n",
        "            nn.GELU(),\n",
        "            nn.Dropout(dropout),\n",
        "            nn.Linear(int(dim * mlp_ratio), dim),\n",
        "            nn.Dropout(dropout),\n",
        "        )\n",
        "\n",
        "    def forward(self, x):\n",
        "        # The DropPath layer is applied on the residual connection\n",
        "        x = x + self.drop_path(self.attn(self.norm1(x)))\n",
        "        x = x + self.drop_path(self.mlp(self.norm2(x)))\n",
        "        return x\n",
        "\n",
        "# MODIFIED: ViT now passes drop_path_rate to blocks\n",
        "class ViT(nn.Module):\n",
        "    def __init__(self, img_size, patch_size, in_ch, num_classes,\n",
        "                 embed_dim, depth, heads, dropout, mlp_ratio, drop_path_rate=0.0):\n",
        "        super().__init__()\n",
        "        self.patch_embed = PatchEmbedding(img_size, patch_size, in_ch, embed_dim)\n",
        "        self.cls_token = nn.Parameter(torch.zeros(1, 1, embed_dim))\n",
        "        self.pos_embed = nn.Parameter(torch.zeros(1, 1 + self.patch_embed.n_patches, embed_dim))\n",
        "        nn.init.trunc_normal_(self.pos_embed, std=0.02)\n",
        "        nn.init.trunc_normal_(self.cls_token, std=0.02)\n",
        "\n",
        "        # Calculate a drop path decay list (linear schedule is common)\n",
        "        dpr = [x.item() for x in torch.linspace(0, drop_path_rate, depth)]\n",
        "\n",
        "        self.blocks = nn.ModuleList([\n",
        "            TransformerBlock(embed_dim, heads, mlp_ratio, dropout, dpr[i]) for i in range(depth)\n",
        "        ])\n",
        "        self.norm = nn.LayerNorm(embed_dim)\n",
        "        self.head = nn.Linear(embed_dim, num_classes)\n",
        "\n",
        "    def forward(self, x):\n",
        "        B = x.size(0)\n",
        "        x = self.patch_embed(x)\n",
        "        cls_tokens = self.cls_token.expand(B, -1, -1)\n",
        "        x = torch.cat((cls_tokens, x), dim=1)\n",
        "        x = x + self.pos_embed\n",
        "        for blk in self.blocks:\n",
        "            x = blk(x)\n",
        "        x = self.norm(x)\n",
        "        return self.head(x[:, 0])\n"
      ],
      "metadata": {
        "id": "FJHTUAWe8vQj"
      },
      "execution_count": null,
      "outputs": []
    },
    {
      "cell_type": "code",
      "source": [
        "model = ViT(**BEST_CONFIG).to(device)\n",
        "criterion = LabelSmoothingCrossEntropy(smoothing=LABEL_SMOOTHING) # NEW: Label Smoothing Loss\n",
        "criterion_eval = nn.CrossEntropyLoss() # Standard CE for evaluation\n",
        "optimizer = optim.AdamW(model.parameters(), lr=LR, weight_decay=WEIGHT_DECAY)\n",
        "scaler = torch.cuda.amp.GradScaler()\n",
        "\n",
        "# Cosine Annealing Scheduler with Warmup\n",
        "scheduler = torch.optim.lr_scheduler.CosineAnnealingLR(optimizer, T_max=EPOCHS - WARMUP_EPOCHS)\n",
        "\n",
        "def adjust_learning_rate(optimizer, epoch, lr, warmup_epochs):\n",
        "    if epoch < warmup_epochs:\n",
        "        new_lr = lr * (epoch + 1) / warmup_epochs\n",
        "    else:\n",
        "        return\n",
        "    for param_group in optimizer.param_groups:\n",
        "        param_group['lr'] = new_lr\n",
        "\n",
        "def train_epoch(model, loader, optimizer, criterion, epoch):\n",
        "    model.train()\n",
        "    total_loss, correct = 0, 0\n",
        "    total_samples = 0\n",
        "    for images, labels in tqdm(loader, leave=False):\n",
        "        images, labels = images.to(device), labels.to(device)\n",
        "\n",
        "        # NEW: Use CutMix Augmentation\n",
        "        images, targets_a, targets_b, lam = cutmix_data(images, labels, alpha=1.0)\n",
        "\n",
        "        optimizer.zero_grad()\n",
        "        # Fixed: Using torch.amp.autocast per warning\n",
        "        with torch.amp.autocast(device_type='cuda', dtype=torch.float16):\n",
        "            outputs = model(images)\n",
        "            loss = cutmix_criterion(criterion, outputs, targets_a, targets_b, lam)\n",
        "\n",
        "        scaler.scale(loss).backward()\n",
        "        scaler.step(optimizer)\n",
        "        scaler.update()\n",
        "\n",
        "        total_loss += loss.item() * images.size(0)\n",
        "        # Note: Accuracy is an estimate due to CutMix\n",
        "        total_samples += images.size(0)\n",
        "\n",
        "    return total_loss / total_samples, 0.0 # Return 0.0 for training accuracy due to complexity of CutMix/Label Smoothing\n",
        "\n",
        "# Evaluation function remains the same, using standard CrossEntropyLoss for reporting\n",
        "def eval_epoch(model, loader, criterion):\n",
        "    model.eval()\n",
        "    total_loss, correct = 0, 0\n",
        "    with torch.no_grad():\n",
        "        for images, labels in loader:\n",
        "            images, labels = images.to(device), labels.to(device)\n",
        "            outputs = model(images)\n",
        "            loss = criterion(outputs, labels)\n",
        "            total_loss += loss.item()\n",
        "            correct += (outputs.argmax(1) == labels).sum().item()\n",
        "    return total_loss / len(loader), correct / len(loader.dataset)\n"
      ],
      "metadata": {
        "colab": {
          "base_uri": "https://localhost:8080/"
        },
        "id": "IA8ndu1x9Pvi",
        "outputId": "f4a3800a-a0a2-48e3-beaf-0fad495b1ad2"
      },
      "execution_count": null,
      "outputs": [
        {
          "output_type": "stream",
          "name": "stderr",
          "text": [
            "/tmp/ipython-input-3442050022.py:5: FutureWarning: `torch.cuda.amp.GradScaler(args...)` is deprecated. Please use `torch.amp.GradScaler('cuda', args...)` instead.\n",
            "  scaler = torch.cuda.amp.GradScaler()\n"
          ]
        }
      ]
    },
    {
      "cell_type": "code",
      "source": [
        "best_acc = 0.0\n",
        "print(f\"Starting training for {EPOCHS} epochs...\")\n",
        "\n",
        "for epoch in range(1, EPOCHS + 1):\n",
        "    # 1. Apply Warmup/Scheduler\n",
        "    adjust_learning_rate(optimizer, epoch - 1, LR, WARMUP_EPOCHS)\n",
        "\n",
        "    # 2. Train\n",
        "    train_loss, _ = train_epoch(model, train_loader, optimizer, criterion, epoch)\n",
        "\n",
        "    # 3. Step Scheduler after Warmup phase\n",
        "    if epoch > WARMUP_EPOCHS:\n",
        "        scheduler.step()\n",
        "\n",
        "    # 4. Evaluate (Using standard CE loss for accurate metric reporting)\n",
        "    val_loss, val_acc = eval_epoch(model, test_loader, criterion_eval)\n",
        "    current_lr = optimizer.param_groups[0]['lr']\n",
        "    print(f\"Epoch {epoch:03d}/{EPOCHS}: LR={current_lr:.6f} | Train Loss={train_loss:.4f} | Test Acc={val_acc:.4f}\")\n",
        "\n",
        "    # 5. Checkpoint\n",
        "    if val_acc > best_acc:\n",
        "        best_acc = val_acc\n",
        "        print(f\"Saving best model with accuracy: {best_acc:.4f}\")\n",
        "        torch.save(model.state_dict(), \"best_vit_cifar10.pth\")\n",
        "\n",
        "print(f\"\\nTraining Complete. Final Best Test Accuracy: {best_acc:.4f}\")\n",
        "\n",
        "# Save the final best accuracy to a file for the results cell\n",
        "with open(\"final_acc.txt\", \"w\") as f:\n",
        "    f.write(f\"{best_acc:.4f}\")"
      ],
      "metadata": {
        "colab": {
          "base_uri": "https://localhost:8080/"
        },
        "id": "GLGPSPIW9P8k",
        "outputId": "f498cf3f-77ea-4dae-bdec-ef886ce5eabc"
      },
      "execution_count": null,
      "outputs": [
        {
          "output_type": "stream",
          "name": "stdout",
          "text": [
            "Starting training for 150 epochs...\n"
          ]
        },
        {
          "output_type": "stream",
          "name": "stderr",
          "text": []
        },
        {
          "output_type": "stream",
          "name": "stdout",
          "text": [
            "Epoch 001/150: LR=0.000100 | Train Loss=2.1799 | Test Acc=0.3016\n",
            "Saving best model with accuracy: 0.3016\n"
          ]
        },
        {
          "output_type": "stream",
          "name": "stderr",
          "text": []
        },
        {
          "output_type": "stream",
          "name": "stdout",
          "text": [
            "Epoch 002/150: LR=0.000200 | Train Loss=2.0963 | Test Acc=0.3642\n",
            "Saving best model with accuracy: 0.3642\n"
          ]
        },
        {
          "output_type": "stream",
          "name": "stderr",
          "text": []
        },
        {
          "output_type": "stream",
          "name": "stdout",
          "text": [
            "Epoch 003/150: LR=0.000300 | Train Loss=2.0278 | Test Acc=0.4586\n",
            "Saving best model with accuracy: 0.4586\n"
          ]
        },
        {
          "output_type": "stream",
          "name": "stderr",
          "text": []
        },
        {
          "output_type": "stream",
          "name": "stdout",
          "text": [
            "Epoch 004/150: LR=0.000400 | Train Loss=1.9710 | Test Acc=0.4547\n"
          ]
        },
        {
          "output_type": "stream",
          "name": "stderr",
          "text": []
        },
        {
          "output_type": "stream",
          "name": "stdout",
          "text": [
            "Epoch 005/150: LR=0.000500 | Train Loss=1.9464 | Test Acc=0.5376\n",
            "Saving best model with accuracy: 0.5376\n"
          ]
        },
        {
          "output_type": "stream",
          "name": "stderr",
          "text": []
        },
        {
          "output_type": "stream",
          "name": "stdout",
          "text": [
            "Epoch 006/150: LR=0.000600 | Train Loss=1.9220 | Test Acc=0.5389\n",
            "Saving best model with accuracy: 0.5389\n"
          ]
        },
        {
          "output_type": "stream",
          "name": "stderr",
          "text": []
        },
        {
          "output_type": "stream",
          "name": "stdout",
          "text": [
            "Epoch 007/150: LR=0.000700 | Train Loss=1.9143 | Test Acc=0.5559\n",
            "Saving best model with accuracy: 0.5559\n"
          ]
        },
        {
          "output_type": "stream",
          "name": "stderr",
          "text": []
        },
        {
          "output_type": "stream",
          "name": "stdout",
          "text": [
            "Epoch 008/150: LR=0.000800 | Train Loss=1.8912 | Test Acc=0.5198\n"
          ]
        },
        {
          "output_type": "stream",
          "name": "stderr",
          "text": []
        },
        {
          "output_type": "stream",
          "name": "stdout",
          "text": [
            "Epoch 009/150: LR=0.000900 | Train Loss=1.8920 | Test Acc=0.5522\n"
          ]
        },
        {
          "output_type": "stream",
          "name": "stderr",
          "text": []
        },
        {
          "output_type": "stream",
          "name": "stdout",
          "text": [
            "Epoch 010/150: LR=0.001000 | Train Loss=1.8833 | Test Acc=0.5548\n"
          ]
        },
        {
          "output_type": "stream",
          "name": "stderr",
          "text": []
        },
        {
          "output_type": "stream",
          "name": "stdout",
          "text": [
            "Epoch 011/150: LR=0.001000 | Train Loss=1.8827 | Test Acc=0.5793\n",
            "Saving best model with accuracy: 0.5793\n"
          ]
        },
        {
          "output_type": "stream",
          "name": "stderr",
          "text": []
        },
        {
          "output_type": "stream",
          "name": "stdout",
          "text": [
            "Epoch 012/150: LR=0.000999 | Train Loss=1.8731 | Test Acc=0.5570\n"
          ]
        },
        {
          "output_type": "stream",
          "name": "stderr",
          "text": []
        },
        {
          "output_type": "stream",
          "name": "stdout",
          "text": [
            "Epoch 013/150: LR=0.000999 | Train Loss=1.8478 | Test Acc=0.6006\n",
            "Saving best model with accuracy: 0.6006\n"
          ]
        },
        {
          "output_type": "stream",
          "name": "stderr",
          "text": []
        },
        {
          "output_type": "stream",
          "name": "stdout",
          "text": [
            "Epoch 014/150: LR=0.000998 | Train Loss=1.8277 | Test Acc=0.6112\n",
            "Saving best model with accuracy: 0.6112\n"
          ]
        },
        {
          "output_type": "stream",
          "name": "stderr",
          "text": []
        },
        {
          "output_type": "stream",
          "name": "stdout",
          "text": [
            "Epoch 015/150: LR=0.000997 | Train Loss=1.8207 | Test Acc=0.6176\n",
            "Saving best model with accuracy: 0.6176\n"
          ]
        },
        {
          "output_type": "stream",
          "name": "stderr",
          "text": []
        },
        {
          "output_type": "stream",
          "name": "stdout",
          "text": [
            "Epoch 016/150: LR=0.000995 | Train Loss=1.8348 | Test Acc=0.6016\n"
          ]
        },
        {
          "output_type": "stream",
          "name": "stderr",
          "text": []
        },
        {
          "output_type": "stream",
          "name": "stdout",
          "text": [
            "Epoch 017/150: LR=0.000994 | Train Loss=1.8256 | Test Acc=0.6130\n"
          ]
        },
        {
          "output_type": "stream",
          "name": "stderr",
          "text": []
        },
        {
          "output_type": "stream",
          "name": "stdout",
          "text": [
            "Epoch 018/150: LR=0.000992 | Train Loss=1.8189 | Test Acc=0.6300\n",
            "Saving best model with accuracy: 0.6300\n"
          ]
        },
        {
          "output_type": "stream",
          "name": "stderr",
          "text": []
        },
        {
          "output_type": "stream",
          "name": "stdout",
          "text": [
            "Epoch 019/150: LR=0.000990 | Train Loss=1.8038 | Test Acc=0.6236\n"
          ]
        },
        {
          "output_type": "stream",
          "name": "stderr",
          "text": []
        },
        {
          "output_type": "stream",
          "name": "stdout",
          "text": [
            "Epoch 020/150: LR=0.000987 | Train Loss=1.7896 | Test Acc=0.6246\n"
          ]
        },
        {
          "output_type": "stream",
          "name": "stderr",
          "text": []
        },
        {
          "output_type": "stream",
          "name": "stdout",
          "text": [
            "Epoch 021/150: LR=0.000985 | Train Loss=1.7759 | Test Acc=0.6276\n"
          ]
        },
        {
          "output_type": "stream",
          "name": "stderr",
          "text": []
        },
        {
          "output_type": "stream",
          "name": "stdout",
          "text": [
            "Epoch 022/150: LR=0.000982 | Train Loss=1.7850 | Test Acc=0.6412\n",
            "Saving best model with accuracy: 0.6412\n"
          ]
        },
        {
          "output_type": "stream",
          "name": "stderr",
          "text": []
        },
        {
          "output_type": "stream",
          "name": "stdout",
          "text": [
            "Epoch 023/150: LR=0.000979 | Train Loss=1.7678 | Test Acc=0.6452\n",
            "Saving best model with accuracy: 0.6452\n"
          ]
        },
        {
          "output_type": "stream",
          "name": "stderr",
          "text": []
        },
        {
          "output_type": "stream",
          "name": "stdout",
          "text": [
            "Epoch 024/150: LR=0.000976 | Train Loss=1.7555 | Test Acc=0.6355\n"
          ]
        },
        {
          "output_type": "stream",
          "name": "stderr",
          "text": []
        },
        {
          "output_type": "stream",
          "name": "stdout",
          "text": [
            "Epoch 025/150: LR=0.000972 | Train Loss=1.7503 | Test Acc=0.6456\n",
            "Saving best model with accuracy: 0.6456\n"
          ]
        },
        {
          "output_type": "stream",
          "name": "stderr",
          "text": []
        },
        {
          "output_type": "stream",
          "name": "stdout",
          "text": [
            "Epoch 026/150: LR=0.000968 | Train Loss=1.7759 | Test Acc=0.6676\n",
            "Saving best model with accuracy: 0.6676\n"
          ]
        },
        {
          "output_type": "stream",
          "name": "stderr",
          "text": []
        },
        {
          "output_type": "stream",
          "name": "stdout",
          "text": [
            "Epoch 027/150: LR=0.000964 | Train Loss=1.7345 | Test Acc=0.6708\n",
            "Saving best model with accuracy: 0.6708\n"
          ]
        },
        {
          "output_type": "stream",
          "name": "stderr",
          "text": []
        },
        {
          "output_type": "stream",
          "name": "stdout",
          "text": [
            "Epoch 028/150: LR=0.000960 | Train Loss=1.7580 | Test Acc=0.6752\n",
            "Saving best model with accuracy: 0.6752\n"
          ]
        },
        {
          "output_type": "stream",
          "name": "stderr",
          "text": []
        },
        {
          "output_type": "stream",
          "name": "stdout",
          "text": [
            "Epoch 029/150: LR=0.000955 | Train Loss=1.7507 | Test Acc=0.6596\n"
          ]
        },
        {
          "output_type": "stream",
          "name": "stderr",
          "text": []
        },
        {
          "output_type": "stream",
          "name": "stdout",
          "text": [
            "Epoch 030/150: LR=0.000950 | Train Loss=1.7539 | Test Acc=0.6705\n"
          ]
        },
        {
          "output_type": "stream",
          "name": "stderr",
          "text": []
        },
        {
          "output_type": "stream",
          "name": "stdout",
          "text": [
            "Epoch 031/150: LR=0.000946 | Train Loss=1.7457 | Test Acc=0.6715\n"
          ]
        },
        {
          "output_type": "stream",
          "name": "stderr",
          "text": []
        },
        {
          "output_type": "stream",
          "name": "stdout",
          "text": [
            "Epoch 032/150: LR=0.000940 | Train Loss=1.7389 | Test Acc=0.6694\n"
          ]
        },
        {
          "output_type": "stream",
          "name": "stderr",
          "text": []
        },
        {
          "output_type": "stream",
          "name": "stdout",
          "text": [
            "Epoch 033/150: LR=0.000935 | Train Loss=1.7364 | Test Acc=0.6815\n",
            "Saving best model with accuracy: 0.6815\n"
          ]
        },
        {
          "output_type": "stream",
          "name": "stderr",
          "text": []
        },
        {
          "output_type": "stream",
          "name": "stdout",
          "text": [
            "Epoch 034/150: LR=0.000929 | Train Loss=1.7123 | Test Acc=0.6673\n"
          ]
        },
        {
          "output_type": "stream",
          "name": "stderr",
          "text": []
        },
        {
          "output_type": "stream",
          "name": "stdout",
          "text": [
            "Epoch 035/150: LR=0.000923 | Train Loss=1.7223 | Test Acc=0.6770\n"
          ]
        },
        {
          "output_type": "stream",
          "name": "stderr",
          "text": []
        },
        {
          "output_type": "stream",
          "name": "stdout",
          "text": [
            "Epoch 036/150: LR=0.000917 | Train Loss=1.7219 | Test Acc=0.6920\n",
            "Saving best model with accuracy: 0.6920\n"
          ]
        },
        {
          "output_type": "stream",
          "name": "stderr",
          "text": []
        },
        {
          "output_type": "stream",
          "name": "stdout",
          "text": [
            "Epoch 037/150: LR=0.000911 | Train Loss=1.7091 | Test Acc=0.6792\n"
          ]
        },
        {
          "output_type": "stream",
          "name": "stderr",
          "text": []
        },
        {
          "output_type": "stream",
          "name": "stdout",
          "text": [
            "Epoch 038/150: LR=0.000905 | Train Loss=1.7209 | Test Acc=0.6986\n",
            "Saving best model with accuracy: 0.6986\n"
          ]
        },
        {
          "output_type": "stream",
          "name": "stderr",
          "text": []
        },
        {
          "output_type": "stream",
          "name": "stdout",
          "text": [
            "Epoch 039/150: LR=0.000898 | Train Loss=1.6968 | Test Acc=0.7031\n",
            "Saving best model with accuracy: 0.7031\n"
          ]
        },
        {
          "output_type": "stream",
          "name": "stderr",
          "text": []
        },
        {
          "output_type": "stream",
          "name": "stdout",
          "text": [
            "Epoch 040/150: LR=0.000891 | Train Loss=1.6934 | Test Acc=0.7021\n"
          ]
        },
        {
          "output_type": "stream",
          "name": "stderr",
          "text": []
        },
        {
          "output_type": "stream",
          "name": "stdout",
          "text": [
            "Epoch 041/150: LR=0.000884 | Train Loss=1.6888 | Test Acc=0.7000\n"
          ]
        },
        {
          "output_type": "stream",
          "name": "stderr",
          "text": []
        },
        {
          "output_type": "stream",
          "name": "stdout",
          "text": [
            "Epoch 042/150: LR=0.000877 | Train Loss=1.6777 | Test Acc=0.6926\n"
          ]
        },
        {
          "output_type": "stream",
          "name": "stderr",
          "text": []
        },
        {
          "output_type": "stream",
          "name": "stdout",
          "text": [
            "Epoch 043/150: LR=0.000869 | Train Loss=1.7011 | Test Acc=0.6955\n"
          ]
        },
        {
          "output_type": "stream",
          "name": "stderr",
          "text": []
        },
        {
          "output_type": "stream",
          "name": "stdout",
          "text": [
            "Epoch 044/150: LR=0.000861 | Train Loss=1.6705 | Test Acc=0.7121\n",
            "Saving best model with accuracy: 0.7121\n"
          ]
        },
        {
          "output_type": "stream",
          "name": "stderr",
          "text": []
        },
        {
          "output_type": "stream",
          "name": "stdout",
          "text": [
            "Epoch 045/150: LR=0.000854 | Train Loss=1.6654 | Test Acc=0.6984\n"
          ]
        },
        {
          "output_type": "stream",
          "name": "stderr",
          "text": []
        },
        {
          "output_type": "stream",
          "name": "stdout",
          "text": [
            "Epoch 046/150: LR=0.000846 | Train Loss=1.6686 | Test Acc=0.7087\n"
          ]
        },
        {
          "output_type": "stream",
          "name": "stderr",
          "text": []
        },
        {
          "output_type": "stream",
          "name": "stdout",
          "text": [
            "Epoch 047/150: LR=0.000837 | Train Loss=1.6703 | Test Acc=0.7229\n",
            "Saving best model with accuracy: 0.7229\n"
          ]
        },
        {
          "output_type": "stream",
          "name": "stderr",
          "text": []
        },
        {
          "output_type": "stream",
          "name": "stdout",
          "text": [
            "Epoch 048/150: LR=0.000829 | Train Loss=1.6525 | Test Acc=0.7145\n"
          ]
        },
        {
          "output_type": "stream",
          "name": "stderr",
          "text": []
        },
        {
          "output_type": "stream",
          "name": "stdout",
          "text": [
            "Epoch 049/150: LR=0.000820 | Train Loss=1.6487 | Test Acc=0.7225\n"
          ]
        },
        {
          "output_type": "stream",
          "name": "stderr",
          "text": []
        },
        {
          "output_type": "stream",
          "name": "stdout",
          "text": [
            "Epoch 050/150: LR=0.000812 | Train Loss=1.6518 | Test Acc=0.7312\n",
            "Saving best model with accuracy: 0.7312\n"
          ]
        },
        {
          "output_type": "stream",
          "name": "stderr",
          "text": []
        },
        {
          "output_type": "stream",
          "name": "stdout",
          "text": [
            "Epoch 051/150: LR=0.000803 | Train Loss=1.6495 | Test Acc=0.7215\n"
          ]
        },
        {
          "output_type": "stream",
          "name": "stderr",
          "text": []
        },
        {
          "output_type": "stream",
          "name": "stdout",
          "text": [
            "Epoch 052/150: LR=0.000794 | Train Loss=1.6405 | Test Acc=0.7186\n"
          ]
        },
        {
          "output_type": "stream",
          "name": "stderr",
          "text": []
        },
        {
          "output_type": "stream",
          "name": "stdout",
          "text": [
            "Epoch 053/150: LR=0.000785 | Train Loss=1.6433 | Test Acc=0.7246\n"
          ]
        },
        {
          "output_type": "stream",
          "name": "stderr",
          "text": []
        },
        {
          "output_type": "stream",
          "name": "stdout",
          "text": [
            "Epoch 054/150: LR=0.000775 | Train Loss=1.6211 | Test Acc=0.7285\n"
          ]
        },
        {
          "output_type": "stream",
          "name": "stderr",
          "text": []
        },
        {
          "output_type": "stream",
          "name": "stdout",
          "text": [
            "Epoch 055/150: LR=0.000766 | Train Loss=1.6367 | Test Acc=0.7295\n"
          ]
        },
        {
          "output_type": "stream",
          "name": "stderr",
          "text": []
        },
        {
          "output_type": "stream",
          "name": "stdout",
          "text": [
            "Epoch 056/150: LR=0.000756 | Train Loss=1.6361 | Test Acc=0.7490\n",
            "Saving best model with accuracy: 0.7490\n"
          ]
        },
        {
          "output_type": "stream",
          "name": "stderr",
          "text": []
        },
        {
          "output_type": "stream",
          "name": "stdout",
          "text": [
            "Epoch 057/150: LR=0.000747 | Train Loss=1.6105 | Test Acc=0.7482\n"
          ]
        },
        {
          "output_type": "stream",
          "name": "stderr",
          "text": []
        },
        {
          "output_type": "stream",
          "name": "stdout",
          "text": [
            "Epoch 058/150: LR=0.000737 | Train Loss=1.6210 | Test Acc=0.7533\n",
            "Saving best model with accuracy: 0.7533\n"
          ]
        },
        {
          "output_type": "stream",
          "name": "stderr",
          "text": []
        },
        {
          "output_type": "stream",
          "name": "stdout",
          "text": [
            "Epoch 059/150: LR=0.000727 | Train Loss=1.6244 | Test Acc=0.7436\n"
          ]
        },
        {
          "output_type": "stream",
          "name": "stderr",
          "text": []
        },
        {
          "output_type": "stream",
          "name": "stdout",
          "text": [
            "Epoch 060/150: LR=0.000717 | Train Loss=1.6060 | Test Acc=0.7500\n"
          ]
        },
        {
          "output_type": "stream",
          "name": "stderr",
          "text": []
        },
        {
          "output_type": "stream",
          "name": "stdout",
          "text": [
            "Epoch 061/150: LR=0.000707 | Train Loss=1.5842 | Test Acc=0.7550\n",
            "Saving best model with accuracy: 0.7550\n"
          ]
        },
        {
          "output_type": "stream",
          "name": "stderr",
          "text": []
        },
        {
          "output_type": "stream",
          "name": "stdout",
          "text": [
            "Epoch 062/150: LR=0.000697 | Train Loss=1.6116 | Test Acc=0.7585\n",
            "Saving best model with accuracy: 0.7585\n"
          ]
        },
        {
          "output_type": "stream",
          "name": "stderr",
          "text": []
        },
        {
          "output_type": "stream",
          "name": "stdout",
          "text": [
            "Epoch 063/150: LR=0.000686 | Train Loss=1.5868 | Test Acc=0.7520\n"
          ]
        },
        {
          "output_type": "stream",
          "name": "stderr",
          "text": []
        },
        {
          "output_type": "stream",
          "name": "stdout",
          "text": [
            "Epoch 064/150: LR=0.000676 | Train Loss=1.6039 | Test Acc=0.7626\n",
            "Saving best model with accuracy: 0.7626\n"
          ]
        },
        {
          "output_type": "stream",
          "name": "stderr",
          "text": []
        },
        {
          "output_type": "stream",
          "name": "stdout",
          "text": [
            "Epoch 065/150: LR=0.000665 | Train Loss=1.5711 | Test Acc=0.7521\n"
          ]
        },
        {
          "output_type": "stream",
          "name": "stderr",
          "text": []
        },
        {
          "output_type": "stream",
          "name": "stdout",
          "text": [
            "Epoch 066/150: LR=0.000655 | Train Loss=1.5840 | Test Acc=0.7623\n"
          ]
        },
        {
          "output_type": "stream",
          "name": "stderr",
          "text": []
        },
        {
          "output_type": "stream",
          "name": "stdout",
          "text": [
            "Epoch 067/150: LR=0.000644 | Train Loss=1.5783 | Test Acc=0.7668\n",
            "Saving best model with accuracy: 0.7668\n"
          ]
        },
        {
          "output_type": "stream",
          "name": "stderr",
          "text": []
        },
        {
          "output_type": "stream",
          "name": "stdout",
          "text": [
            "Epoch 068/150: LR=0.000633 | Train Loss=1.5802 | Test Acc=0.7746\n",
            "Saving best model with accuracy: 0.7746\n"
          ]
        },
        {
          "output_type": "stream",
          "name": "stderr",
          "text": []
        },
        {
          "output_type": "stream",
          "name": "stdout",
          "text": [
            "Epoch 069/150: LR=0.000622 | Train Loss=1.5736 | Test Acc=0.7562\n"
          ]
        },
        {
          "output_type": "stream",
          "name": "stderr",
          "text": []
        },
        {
          "output_type": "stream",
          "name": "stdout",
          "text": [
            "Epoch 070/150: LR=0.000611 | Train Loss=1.5691 | Test Acc=0.7763\n",
            "Saving best model with accuracy: 0.7763\n"
          ]
        },
        {
          "output_type": "stream",
          "name": "stderr",
          "text": []
        },
        {
          "output_type": "stream",
          "name": "stdout",
          "text": [
            "Epoch 071/150: LR=0.000600 | Train Loss=1.5644 | Test Acc=0.7642\n"
          ]
        },
        {
          "output_type": "stream",
          "name": "stderr",
          "text": []
        },
        {
          "output_type": "stream",
          "name": "stdout",
          "text": [
            "Epoch 072/150: LR=0.000589 | Train Loss=1.5540 | Test Acc=0.7656\n"
          ]
        },
        {
          "output_type": "stream",
          "name": "stderr",
          "text": []
        },
        {
          "output_type": "stream",
          "name": "stdout",
          "text": [
            "Epoch 073/150: LR=0.000578 | Train Loss=1.5390 | Test Acc=0.7761\n"
          ]
        },
        {
          "output_type": "stream",
          "name": "stderr",
          "text": []
        },
        {
          "output_type": "stream",
          "name": "stdout",
          "text": [
            "Epoch 074/150: LR=0.000567 | Train Loss=1.5479 | Test Acc=0.7675\n"
          ]
        },
        {
          "output_type": "stream",
          "name": "stderr",
          "text": []
        },
        {
          "output_type": "stream",
          "name": "stdout",
          "text": [
            "Epoch 075/150: LR=0.000556 | Train Loss=1.5555 | Test Acc=0.7695\n"
          ]
        },
        {
          "output_type": "stream",
          "name": "stderr",
          "text": []
        },
        {
          "output_type": "stream",
          "name": "stdout",
          "text": [
            "Epoch 076/150: LR=0.000545 | Train Loss=1.5487 | Test Acc=0.7684\n"
          ]
        },
        {
          "output_type": "stream",
          "name": "stderr",
          "text": []
        },
        {
          "output_type": "stream",
          "name": "stdout",
          "text": [
            "Epoch 077/150: LR=0.000534 | Train Loss=1.5299 | Test Acc=0.7754\n"
          ]
        },
        {
          "output_type": "stream",
          "name": "stderr",
          "text": []
        },
        {
          "output_type": "stream",
          "name": "stdout",
          "text": [
            "Epoch 078/150: LR=0.000522 | Train Loss=1.5470 | Test Acc=0.7754\n"
          ]
        },
        {
          "output_type": "stream",
          "name": "stderr",
          "text": []
        },
        {
          "output_type": "stream",
          "name": "stdout",
          "text": [
            "Epoch 079/150: LR=0.000511 | Train Loss=1.5295 | Test Acc=0.7861\n",
            "Saving best model with accuracy: 0.7861\n"
          ]
        },
        {
          "output_type": "stream",
          "name": "stderr",
          "text": []
        },
        {
          "output_type": "stream",
          "name": "stdout",
          "text": [
            "Epoch 080/150: LR=0.000500 | Train Loss=1.5503 | Test Acc=0.7782\n"
          ]
        },
        {
          "output_type": "stream",
          "name": "stderr",
          "text": []
        },
        {
          "output_type": "stream",
          "name": "stdout",
          "text": [
            "Epoch 081/150: LR=0.000489 | Train Loss=1.5356 | Test Acc=0.7921\n",
            "Saving best model with accuracy: 0.7921\n"
          ]
        },
        {
          "output_type": "stream",
          "name": "stderr",
          "text": []
        },
        {
          "output_type": "stream",
          "name": "stdout",
          "text": [
            "Epoch 082/150: LR=0.000478 | Train Loss=1.5286 | Test Acc=0.7840\n"
          ]
        },
        {
          "output_type": "stream",
          "name": "stderr",
          "text": []
        },
        {
          "output_type": "stream",
          "name": "stdout",
          "text": [
            "Epoch 083/150: LR=0.000466 | Train Loss=1.5380 | Test Acc=0.7875\n"
          ]
        },
        {
          "output_type": "stream",
          "name": "stderr",
          "text": []
        },
        {
          "output_type": "stream",
          "name": "stdout",
          "text": [
            "Epoch 084/150: LR=0.000455 | Train Loss=1.5067 | Test Acc=0.7913\n"
          ]
        },
        {
          "output_type": "stream",
          "name": "stderr",
          "text": []
        },
        {
          "output_type": "stream",
          "name": "stdout",
          "text": [
            "Epoch 085/150: LR=0.000444 | Train Loss=1.4872 | Test Acc=0.7844\n"
          ]
        },
        {
          "output_type": "stream",
          "name": "stderr",
          "text": []
        },
        {
          "output_type": "stream",
          "name": "stdout",
          "text": [
            "Epoch 086/150: LR=0.000433 | Train Loss=1.5123 | Test Acc=0.7968\n",
            "Saving best model with accuracy: 0.7968\n"
          ]
        },
        {
          "output_type": "stream",
          "name": "stderr",
          "text": []
        },
        {
          "output_type": "stream",
          "name": "stdout",
          "text": [
            "Epoch 087/150: LR=0.000422 | Train Loss=1.4970 | Test Acc=0.8014\n",
            "Saving best model with accuracy: 0.8014\n"
          ]
        },
        {
          "output_type": "stream",
          "name": "stderr",
          "text": []
        },
        {
          "output_type": "stream",
          "name": "stdout",
          "text": [
            "Epoch 088/150: LR=0.000411 | Train Loss=1.4989 | Test Acc=0.7986\n"
          ]
        },
        {
          "output_type": "stream",
          "name": "stderr",
          "text": []
        },
        {
          "output_type": "stream",
          "name": "stdout",
          "text": [
            "Epoch 089/150: LR=0.000400 | Train Loss=1.5023 | Test Acc=0.7957\n"
          ]
        },
        {
          "output_type": "stream",
          "name": "stderr",
          "text": []
        },
        {
          "output_type": "stream",
          "name": "stdout",
          "text": [
            "Epoch 090/150: LR=0.000389 | Train Loss=1.5249 | Test Acc=0.7925\n"
          ]
        },
        {
          "output_type": "stream",
          "name": "stderr",
          "text": []
        },
        {
          "output_type": "stream",
          "name": "stdout",
          "text": [
            "Epoch 091/150: LR=0.000378 | Train Loss=1.4833 | Test Acc=0.8032\n",
            "Saving best model with accuracy: 0.8032\n"
          ]
        },
        {
          "output_type": "stream",
          "name": "stderr",
          "text": []
        },
        {
          "output_type": "stream",
          "name": "stdout",
          "text": [
            "Epoch 092/150: LR=0.000367 | Train Loss=1.4721 | Test Acc=0.8057\n",
            "Saving best model with accuracy: 0.8057\n"
          ]
        },
        {
          "output_type": "stream",
          "name": "stderr",
          "text": []
        },
        {
          "output_type": "stream",
          "name": "stdout",
          "text": [
            "Epoch 093/150: LR=0.000356 | Train Loss=1.4950 | Test Acc=0.8099\n",
            "Saving best model with accuracy: 0.8099\n"
          ]
        },
        {
          "output_type": "stream",
          "name": "stderr",
          "text": []
        },
        {
          "output_type": "stream",
          "name": "stdout",
          "text": [
            "Epoch 094/150: LR=0.000345 | Train Loss=1.4932 | Test Acc=0.7961\n"
          ]
        },
        {
          "output_type": "stream",
          "name": "stderr",
          "text": []
        },
        {
          "output_type": "stream",
          "name": "stdout",
          "text": [
            "Epoch 095/150: LR=0.000335 | Train Loss=1.4822 | Test Acc=0.8054\n"
          ]
        },
        {
          "output_type": "stream",
          "name": "stderr",
          "text": []
        },
        {
          "output_type": "stream",
          "name": "stdout",
          "text": [
            "Epoch 096/150: LR=0.000324 | Train Loss=1.4680 | Test Acc=0.8089\n"
          ]
        },
        {
          "output_type": "stream",
          "name": "stderr",
          "text": []
        },
        {
          "output_type": "stream",
          "name": "stdout",
          "text": [
            "Epoch 097/150: LR=0.000314 | Train Loss=1.4708 | Test Acc=0.8057\n"
          ]
        },
        {
          "output_type": "stream",
          "name": "stderr",
          "text": []
        },
        {
          "output_type": "stream",
          "name": "stdout",
          "text": [
            "Epoch 098/150: LR=0.000303 | Train Loss=1.4512 | Test Acc=0.7977\n"
          ]
        },
        {
          "output_type": "stream",
          "name": "stderr",
          "text": []
        },
        {
          "output_type": "stream",
          "name": "stdout",
          "text": [
            "Epoch 099/150: LR=0.000293 | Train Loss=1.4712 | Test Acc=0.8104\n",
            "Saving best model with accuracy: 0.8104\n"
          ]
        },
        {
          "output_type": "stream",
          "name": "stderr",
          "text": []
        },
        {
          "output_type": "stream",
          "name": "stdout",
          "text": [
            "Epoch 100/150: LR=0.000283 | Train Loss=1.4620 | Test Acc=0.8139\n",
            "Saving best model with accuracy: 0.8139\n"
          ]
        },
        {
          "output_type": "stream",
          "name": "stderr",
          "text": []
        },
        {
          "output_type": "stream",
          "name": "stdout",
          "text": [
            "Epoch 101/150: LR=0.000273 | Train Loss=1.4497 | Test Acc=0.8096\n"
          ]
        },
        {
          "output_type": "stream",
          "name": "stderr",
          "text": []
        },
        {
          "output_type": "stream",
          "name": "stdout",
          "text": [
            "Epoch 102/150: LR=0.000263 | Train Loss=1.4715 | Test Acc=0.8148\n",
            "Saving best model with accuracy: 0.8148\n"
          ]
        },
        {
          "output_type": "stream",
          "name": "stderr",
          "text": []
        },
        {
          "output_type": "stream",
          "name": "stdout",
          "text": [
            "Epoch 103/150: LR=0.000253 | Train Loss=1.4685 | Test Acc=0.8116\n"
          ]
        },
        {
          "output_type": "stream",
          "name": "stderr",
          "text": []
        },
        {
          "output_type": "stream",
          "name": "stdout",
          "text": [
            "Epoch 104/150: LR=0.000244 | Train Loss=1.4404 | Test Acc=0.8090\n"
          ]
        },
        {
          "output_type": "stream",
          "name": "stderr",
          "text": []
        },
        {
          "output_type": "stream",
          "name": "stdout",
          "text": [
            "Epoch 105/150: LR=0.000234 | Train Loss=1.4502 | Test Acc=0.8117\n"
          ]
        },
        {
          "output_type": "stream",
          "name": "stderr",
          "text": []
        },
        {
          "output_type": "stream",
          "name": "stdout",
          "text": [
            "Epoch 106/150: LR=0.000225 | Train Loss=1.4091 | Test Acc=0.8255\n",
            "Saving best model with accuracy: 0.8255\n"
          ]
        },
        {
          "output_type": "stream",
          "name": "stderr",
          "text": []
        },
        {
          "output_type": "stream",
          "name": "stdout",
          "text": [
            "Epoch 107/150: LR=0.000215 | Train Loss=1.4448 | Test Acc=0.8219\n"
          ]
        },
        {
          "output_type": "stream",
          "name": "stderr",
          "text": []
        },
        {
          "output_type": "stream",
          "name": "stdout",
          "text": [
            "Epoch 108/150: LR=0.000206 | Train Loss=1.4304 | Test Acc=0.8151\n"
          ]
        },
        {
          "output_type": "stream",
          "name": "stderr",
          "text": []
        },
        {
          "output_type": "stream",
          "name": "stdout",
          "text": [
            "Epoch 109/150: LR=0.000197 | Train Loss=1.4385 | Test Acc=0.8196\n"
          ]
        },
        {
          "output_type": "stream",
          "name": "stderr",
          "text": []
        },
        {
          "output_type": "stream",
          "name": "stdout",
          "text": [
            "Epoch 110/150: LR=0.000188 | Train Loss=1.4286 | Test Acc=0.8204\n"
          ]
        },
        {
          "output_type": "stream",
          "name": "stderr",
          "text": []
        },
        {
          "output_type": "stream",
          "name": "stdout",
          "text": [
            "Epoch 111/150: LR=0.000180 | Train Loss=1.4439 | Test Acc=0.8216\n"
          ]
        },
        {
          "output_type": "stream",
          "name": "stderr",
          "text": []
        },
        {
          "output_type": "stream",
          "name": "stdout",
          "text": [
            "Epoch 112/150: LR=0.000171 | Train Loss=1.4239 | Test Acc=0.8212\n"
          ]
        },
        {
          "output_type": "stream",
          "name": "stderr",
          "text": []
        },
        {
          "output_type": "stream",
          "name": "stdout",
          "text": [
            "Epoch 113/150: LR=0.000163 | Train Loss=1.4277 | Test Acc=0.8230\n"
          ]
        },
        {
          "output_type": "stream",
          "name": "stderr",
          "text": []
        },
        {
          "output_type": "stream",
          "name": "stdout",
          "text": [
            "Epoch 114/150: LR=0.000154 | Train Loss=1.3869 | Test Acc=0.8247\n"
          ]
        },
        {
          "output_type": "stream",
          "name": "stderr",
          "text": []
        },
        {
          "output_type": "stream",
          "name": "stdout",
          "text": [
            "Epoch 115/150: LR=0.000146 | Train Loss=1.4221 | Test Acc=0.8259\n",
            "Saving best model with accuracy: 0.8259\n"
          ]
        },
        {
          "output_type": "stream",
          "name": "stderr",
          "text": []
        },
        {
          "output_type": "stream",
          "name": "stdout",
          "text": [
            "Epoch 116/150: LR=0.000139 | Train Loss=1.4110 | Test Acc=0.8260\n",
            "Saving best model with accuracy: 0.8260\n"
          ]
        },
        {
          "output_type": "stream",
          "name": "stderr",
          "text": []
        },
        {
          "output_type": "stream",
          "name": "stdout",
          "text": [
            "Epoch 117/150: LR=0.000131 | Train Loss=1.4033 | Test Acc=0.8240\n"
          ]
        },
        {
          "output_type": "stream",
          "name": "stderr",
          "text": []
        },
        {
          "output_type": "stream",
          "name": "stdout",
          "text": [
            "Epoch 118/150: LR=0.000123 | Train Loss=1.4029 | Test Acc=0.8250\n"
          ]
        },
        {
          "output_type": "stream",
          "name": "stderr",
          "text": []
        },
        {
          "output_type": "stream",
          "name": "stdout",
          "text": [
            "Epoch 119/150: LR=0.000116 | Train Loss=1.3848 | Test Acc=0.8315\n",
            "Saving best model with accuracy: 0.8315\n"
          ]
        },
        {
          "output_type": "stream",
          "name": "stderr",
          "text": []
        },
        {
          "output_type": "stream",
          "name": "stdout",
          "text": [
            "Epoch 120/150: LR=0.000109 | Train Loss=1.4027 | Test Acc=0.8249\n"
          ]
        },
        {
          "output_type": "stream",
          "name": "stderr",
          "text": []
        },
        {
          "output_type": "stream",
          "name": "stdout",
          "text": [
            "Epoch 121/150: LR=0.000102 | Train Loss=1.4012 | Test Acc=0.8278\n"
          ]
        },
        {
          "output_type": "stream",
          "name": "stderr",
          "text": []
        },
        {
          "output_type": "stream",
          "name": "stdout",
          "text": [
            "Epoch 122/150: LR=0.000095 | Train Loss=1.4038 | Test Acc=0.8282\n"
          ]
        },
        {
          "output_type": "stream",
          "name": "stderr",
          "text": []
        },
        {
          "output_type": "stream",
          "name": "stdout",
          "text": [
            "Epoch 123/150: LR=0.000089 | Train Loss=1.3691 | Test Acc=0.8264\n"
          ]
        },
        {
          "output_type": "stream",
          "name": "stderr",
          "text": []
        },
        {
          "output_type": "stream",
          "name": "stdout",
          "text": [
            "Epoch 124/150: LR=0.000083 | Train Loss=1.3625 | Test Acc=0.8222\n"
          ]
        },
        {
          "output_type": "stream",
          "name": "stderr",
          "text": []
        },
        {
          "output_type": "stream",
          "name": "stdout",
          "text": [
            "Epoch 125/150: LR=0.000077 | Train Loss=1.4149 | Test Acc=0.8284\n"
          ]
        },
        {
          "output_type": "stream",
          "name": "stderr",
          "text": []
        },
        {
          "output_type": "stream",
          "name": "stdout",
          "text": [
            "Epoch 126/150: LR=0.000071 | Train Loss=1.3560 | Test Acc=0.8302\n"
          ]
        },
        {
          "output_type": "stream",
          "name": "stderr",
          "text": []
        },
        {
          "output_type": "stream",
          "name": "stdout",
          "text": [
            "Epoch 127/150: LR=0.000065 | Train Loss=1.3711 | Test Acc=0.8311\n"
          ]
        },
        {
          "output_type": "stream",
          "name": "stderr",
          "text": []
        },
        {
          "output_type": "stream",
          "name": "stdout",
          "text": [
            "Epoch 128/150: LR=0.000060 | Train Loss=1.3860 | Test Acc=0.8306\n"
          ]
        },
        {
          "output_type": "stream",
          "name": "stderr",
          "text": []
        },
        {
          "output_type": "stream",
          "name": "stdout",
          "text": [
            "Epoch 129/150: LR=0.000054 | Train Loss=1.3778 | Test Acc=0.8306\n"
          ]
        },
        {
          "output_type": "stream",
          "name": "stderr",
          "text": []
        },
        {
          "output_type": "stream",
          "name": "stdout",
          "text": [
            "Epoch 130/150: LR=0.000050 | Train Loss=1.3804 | Test Acc=0.8330\n",
            "Saving best model with accuracy: 0.8330\n"
          ]
        },
        {
          "output_type": "stream",
          "name": "stderr",
          "text": []
        },
        {
          "output_type": "stream",
          "name": "stdout",
          "text": [
            "Epoch 131/150: LR=0.000045 | Train Loss=1.3770 | Test Acc=0.8348\n",
            "Saving best model with accuracy: 0.8348\n"
          ]
        },
        {
          "output_type": "stream",
          "name": "stderr",
          "text": []
        },
        {
          "output_type": "stream",
          "name": "stdout",
          "text": [
            "Epoch 132/150: LR=0.000040 | Train Loss=1.3570 | Test Acc=0.8277\n"
          ]
        },
        {
          "output_type": "stream",
          "name": "stderr",
          "text": []
        },
        {
          "output_type": "stream",
          "name": "stdout",
          "text": [
            "Epoch 133/150: LR=0.000036 | Train Loss=1.3803 | Test Acc=0.8342\n"
          ]
        },
        {
          "output_type": "stream",
          "name": "stderr",
          "text": []
        },
        {
          "output_type": "stream",
          "name": "stdout",
          "text": [
            "Epoch 134/150: LR=0.000032 | Train Loss=1.3723 | Test Acc=0.8370\n",
            "Saving best model with accuracy: 0.8370\n"
          ]
        },
        {
          "output_type": "stream",
          "name": "stderr",
          "text": []
        },
        {
          "output_type": "stream",
          "name": "stdout",
          "text": [
            "Epoch 135/150: LR=0.000028 | Train Loss=1.3397 | Test Acc=0.8331\n"
          ]
        },
        {
          "output_type": "stream",
          "name": "stderr",
          "text": []
        },
        {
          "output_type": "stream",
          "name": "stdout",
          "text": [
            "Epoch 136/150: LR=0.000024 | Train Loss=1.3742 | Test Acc=0.8359\n"
          ]
        },
        {
          "output_type": "stream",
          "name": "stderr",
          "text": []
        },
        {
          "output_type": "stream",
          "name": "stdout",
          "text": [
            "Epoch 137/150: LR=0.000021 | Train Loss=1.3673 | Test Acc=0.8359\n"
          ]
        },
        {
          "output_type": "stream",
          "name": "stderr",
          "text": []
        },
        {
          "output_type": "stream",
          "name": "stdout",
          "text": [
            "Epoch 138/150: LR=0.000018 | Train Loss=1.3668 | Test Acc=0.8352\n"
          ]
        },
        {
          "output_type": "stream",
          "name": "stderr",
          "text": []
        },
        {
          "output_type": "stream",
          "name": "stdout",
          "text": [
            "Epoch 139/150: LR=0.000015 | Train Loss=1.3581 | Test Acc=0.8353\n"
          ]
        },
        {
          "output_type": "stream",
          "name": "stderr",
          "text": []
        },
        {
          "output_type": "stream",
          "name": "stdout",
          "text": [
            "Epoch 140/150: LR=0.000013 | Train Loss=1.3738 | Test Acc=0.8344\n"
          ]
        },
        {
          "output_type": "stream",
          "name": "stderr",
          "text": []
        },
        {
          "output_type": "stream",
          "name": "stdout",
          "text": [
            "Epoch 141/150: LR=0.000010 | Train Loss=1.3656 | Test Acc=0.8357\n"
          ]
        },
        {
          "output_type": "stream",
          "name": "stderr",
          "text": []
        },
        {
          "output_type": "stream",
          "name": "stdout",
          "text": [
            "Epoch 142/150: LR=0.000008 | Train Loss=1.3539 | Test Acc=0.8373\n",
            "Saving best model with accuracy: 0.8373\n"
          ]
        },
        {
          "output_type": "stream",
          "name": "stderr",
          "text": []
        },
        {
          "output_type": "stream",
          "name": "stdout",
          "text": [
            "Epoch 143/150: LR=0.000006 | Train Loss=1.3626 | Test Acc=0.8370\n"
          ]
        },
        {
          "output_type": "stream",
          "name": "stderr",
          "text": []
        },
        {
          "output_type": "stream",
          "name": "stdout",
          "text": [
            "Epoch 144/150: LR=0.000005 | Train Loss=1.3801 | Test Acc=0.8358\n"
          ]
        },
        {
          "output_type": "stream",
          "name": "stderr",
          "text": []
        },
        {
          "output_type": "stream",
          "name": "stdout",
          "text": [
            "Epoch 145/150: LR=0.000003 | Train Loss=1.3583 | Test Acc=0.8378\n",
            "Saving best model with accuracy: 0.8378\n"
          ]
        },
        {
          "output_type": "stream",
          "name": "stderr",
          "text": []
        },
        {
          "output_type": "stream",
          "name": "stdout",
          "text": [
            "Epoch 146/150: LR=0.000002 | Train Loss=1.3609 | Test Acc=0.8366\n"
          ]
        },
        {
          "output_type": "stream",
          "name": "stderr",
          "text": []
        },
        {
          "output_type": "stream",
          "name": "stdout",
          "text": [
            "Epoch 147/150: LR=0.000001 | Train Loss=1.3593 | Test Acc=0.8369\n"
          ]
        },
        {
          "output_type": "stream",
          "name": "stderr",
          "text": []
        },
        {
          "output_type": "stream",
          "name": "stdout",
          "text": [
            "Epoch 148/150: LR=0.000001 | Train Loss=1.3743 | Test Acc=0.8374\n"
          ]
        },
        {
          "output_type": "stream",
          "name": "stderr",
          "text": []
        },
        {
          "output_type": "stream",
          "name": "stdout",
          "text": [
            "Epoch 149/150: LR=0.000000 | Train Loss=1.3631 | Test Acc=0.8373\n"
          ]
        },
        {
          "output_type": "stream",
          "name": "stderr",
          "text": []
        },
        {
          "output_type": "stream",
          "name": "stdout",
          "text": [
            "Epoch 150/150: LR=0.000000 | Train Loss=1.3649 | Test Acc=0.8370\n",
            "\n",
            "Training Complete. Final Best Test Accuracy: 0.8378\n"
          ]
        }
      ]
    },
    {
      "cell_type": "code",
      "source": [
        "# =====================================================\n",
        "# FINAL RESULTS CELL (Must be run after the training cell)\n",
        "# =====================================================\n",
        "\n",
        "import matplotlib.pyplot as plt\n",
        "\n",
        "# Load the best accuracy from the file saved by the training script\n",
        "try:\n",
        "    with open(\"final_acc.txt\", \"r\") as f:\n",
        "        best_acc_str = f.read().strip()\n",
        "        best_acc_float = float(best_acc_str)\n",
        "        best_acc_percent = best_acc_float * 100\n",
        "except FileNotFoundError:\n",
        "    print(\"Error: 'final_acc.txt' not found. Please run the training cell first.\")\n",
        "    best_acc_percent = 0.0\n",
        "\n",
        "# Display the result clearly\n",
        "print(\"=\" * 40)\n",
        "print(f\"  FINAL BEST TEST ACCURACY: {best_acc_percent:.2f}%\")\n",
        "print(\"=\" * 40)\n",
        "\n",
        "# (Optional Visualization)\n",
        "if best_acc_float > 0.0:\n",
        "    plt.figure(figsize=(6, 2))\n",
        "    plt.barh(['ViT on CIFAR-10'], [best_acc_percent], color='teal')\n",
        "    plt.xlim(0, 100)\n",
        "    plt.xlabel('Test Accuracy (%)')\n",
        "    plt.title('Q1 Best Model Performance')\n",
        "    plt.show()"
      ],
      "metadata": {
        "id": "Xf5HOfvl9QLM",
        "colab": {
          "base_uri": "https://localhost:8080/",
          "height": 308
        },
        "outputId": "5fbb1ddb-b31e-4b39-ba82-7c597c9776e3"
      },
      "execution_count": null,
      "outputs": [
        {
          "output_type": "stream",
          "name": "stdout",
          "text": [
            "========================================\n",
            "  FINAL BEST TEST ACCURACY: 83.78%\n",
            "========================================\n"
          ]
        },
        {
          "output_type": "display_data",
          "data": {
            "text/plain": [
              "<Figure size 600x200 with 1 Axes>"
            ],
            "image/png": "[encoded data removed]"
          },
          "metadata": {}
        }
      ]
    }
  ]
}